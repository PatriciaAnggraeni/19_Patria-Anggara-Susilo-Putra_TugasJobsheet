{
  "nbformat": 4,
  "nbformat_minor": 0,
  "metadata": {
    "colab": {
      "provenance": [],
      "name": "TugasInformedSearch.ipynb",
      "collapsed_sections": [],
      "authorship_tag": "ABX9TyO7eDcTVGjBQ0/16kJyczUa",
      "include_colab_link": true
    },
    "kernelspec": {
      "name": "python3",
      "display_name": "Python 3"
    },
    "language_info": {
      "name": "python"
    }
  },
  "cells": [
    {
      "cell_type": "markdown",
      "metadata": {
        "id": "view-in-github",
        "colab_type": "text"
      },
      "source": [
        "<a href=\"https://colab.research.google.com/github/NightYara/19_Patria-Anggara-Susilo-Putra_TugasJobsheet/blob/main/TugasInformedSearch.ipynb\" target=\"_parent\"><img src=\"https://colab.research.google.com/assets/colab-badge.svg\" alt=\"Open In Colab\"/></a>"
      ]
    },
    {
      "cell_type": "code",
      "execution_count": null,
      "metadata": {
        "colab": {
          "base_uri": "https://localhost:8080/"
        },
        "id": "WESblvv03boO",
        "outputId": "e7d7438f-df00-40a5-fa91-ce7551621fa4"
      },
      "outputs": [
        {
          "output_type": "stream",
          "name": "stdout",
          "text": [
            "Hasil penelurusan graf menggunakan BFS: \n",
            "A B C D E F H G "
          ]
        }
      ],
      "source": [
        "# 1.3.1 Langkah langkah percobaan BFS\n",
        "\n",
        "graph = {\n",
        "    'A' : ['B', 'C'],\n",
        "    'B' : ['D', 'E'],\n",
        "    'C' : ['F'],\n",
        "    'D' : [],\n",
        "    'E' : ['F'],\n",
        "    'F' : ['H'],\n",
        "    'G' : ['H'],\n",
        "    'H' : ['G'],\n",
        "}\n",
        "\n",
        "visited = []\n",
        "queue = []\n",
        "\n",
        "def bfs(visited, graph, node):\n",
        "  visited.append(node)\n",
        "  queue.append(node)\n",
        "\n",
        "  while queue:\n",
        "    s = queue.pop(0)\n",
        "    print(s, end = \" \")\n",
        "\n",
        "    for neighbour in graph[s]:\n",
        "      if neighbour not in visited:\n",
        "        visited.append(neighbour)\n",
        "        queue.append(neighbour)\n",
        "\n",
        "\n",
        "print(\"Hasil penelurusan graf menggunakan BFS: \")\n",
        "bfs(visited, graph, 'A')"
      ]
    },
    {
      "cell_type": "code",
      "source": [
        "# Jawaban pertanyaan 1.3.3 Nomor 2\n",
        "\n",
        "graph = {\n",
        "    'A' : ['B', 'C'],\n",
        "    'B' : ['D', 'E'],\n",
        "    'C' : ['F'],\n",
        "    'D' : [],\n",
        "    'E' : ['F', 'G'],\n",
        "    'F' : ['H'],\n",
        "    'G' : ['H'],\n",
        "    'H' : ['G'],\n",
        "}\n",
        "\n",
        "visited = []\n",
        "queue = []\n",
        "\n",
        "def bfs(visited, graph, node):\n",
        "  visited.append(node)\n",
        "  queue.append(node)\n",
        "\n",
        "  while queue:\n",
        "    s = queue.pop(0)\n",
        "    print(s, end = \" \")\n",
        "\n",
        "    for neighbour in graph[s]:\n",
        "      if neighbour not in visited:\n",
        "        visited.append(neighbour)\n",
        "        queue.append(neighbour)\n",
        "\n",
        "print(\"Hasil penelurusan graf menggunakan BFS: \")\n",
        "bfs(visited, graph, 'A')"
      ],
      "metadata": {
        "colab": {
          "base_uri": "https://localhost:8080/"
        },
        "id": "smlnvVVM_QWf",
        "outputId": "8ce61984-bff8-4eb5-d365-c4cd469a8b85"
      },
      "execution_count": null,
      "outputs": [
        {
          "output_type": "stream",
          "name": "stdout",
          "text": [
            "Hasil penelurusan graf menggunakan BFS: \n",
            "A B C D E F G H "
          ]
        }
      ]
    },
    {
      "cell_type": "code",
      "source": [
        "# 1.4.1 Langkah langkah Percobaan\n",
        "\n",
        "graph = {\n",
        "    'A' : ['B', 'C'], \n",
        "    'B' : ['D', 'E'],\n",
        "    'C' : ['F'],\n",
        "    'D' : [],\n",
        "    'E' : ['F'],\n",
        "    'F' : ['H'],\n",
        "    'G' : ['H'],\n",
        "    'H' : ['G'],\n",
        "}\n",
        "\n",
        "visited = set()\n",
        "\n",
        "def dfs(visited, graph, node):\n",
        "  if node not in visited:\n",
        "    print(node)\n",
        "    visited.add(node)\n",
        "    for neighbour in graph[node]:\n",
        "      dfs(visited, graph, neighbour)\n",
        "\n",
        "\n",
        "print(\"Hasil penelusuran graf menggunakan DFS: \")\n",
        "dfs(visited, graph, 'A')"
      ],
      "metadata": {
        "colab": {
          "base_uri": "https://localhost:8080/"
        },
        "id": "ehQ1CloKGL4L",
        "outputId": "83ca3cc5-eedd-478c-a5f0-9860beef39b2"
      },
      "execution_count": null,
      "outputs": [
        {
          "output_type": "stream",
          "name": "stdout",
          "text": [
            "Hasil penelusuran graf menggunakan DFS: \n",
            "A\n",
            "B\n",
            "D\n",
            "E\n",
            "F\n",
            "H\n",
            "G\n",
            "C\n"
          ]
        }
      ]
    },
    {
      "cell_type": "code",
      "source": [
        "# Pertanyaan 1.4.3 Jawaban nomor 2\n",
        "\n",
        "graph = {\n",
        "    'A' : ['B', 'C'], \n",
        "    'B' : ['C'],\n",
        "    'C' : ['F'],\n",
        "    'D' : [],\n",
        "    'E' : ['F'],\n",
        "    'F' : ['H'],\n",
        "    'G' : ['H'],\n",
        "    'H' : ['G'],\n",
        "}\n",
        "\n",
        "visited = set()\n",
        "\n",
        "def dfs(visited, graph, node):\n",
        "  if node not in visited:\n",
        "    print(node)\n",
        "    visited.add(node)\n",
        "    for neighbour in graph[node]:\n",
        "      dfs(visited, graph, neighbour)\n",
        "\n",
        "\n",
        "print(\"Hasil penelusuran graf menggunakan DFS: \")\n",
        "dfs(visited, graph, 'A')"
      ],
      "metadata": {
        "colab": {
          "base_uri": "https://localhost:8080/"
        },
        "id": "kWqWIL6WI-OB",
        "outputId": "56b2f410-7de1-43b1-f46a-132900bf5d20"
      },
      "execution_count": null,
      "outputs": [
        {
          "output_type": "stream",
          "name": "stdout",
          "text": [
            "Hasil penelusuran graf menggunakan DFS: \n",
            "A\n",
            "B\n",
            "C\n",
            "F\n",
            "H\n",
            "G\n"
          ]
        }
      ]
    },
    {
      "cell_type": "code",
      "source": [
        "# 1.5 Latihan Praktikum Nomor 1A\n",
        "\n",
        "graph = {\n",
        "    'A' : ['B', 'E', 'F'],\n",
        "    'B' : ['A','G','F'],\n",
        "    'C' : ['D', 'G'],\n",
        "    'D' : ['H', 'C'],\n",
        "    'E' : ['A', 'F'],\n",
        "    'F' : ['F', 'A', 'B'],\n",
        "    'G' : ['C', 'H'],\n",
        "    'H' : ['G', 'D'],\n",
        "}\n",
        "\n",
        "visited = []\n",
        "queue = []\n",
        "\n",
        "def bfs(visited, graph, node):\n",
        "  visited.append(node)\n",
        "  queue.append(node)\n",
        "\n",
        "  while queue:\n",
        "    s = queue.pop(0)\n",
        "    print(s, end = \" \")\n",
        "\n",
        "    for neighbour in graph[s]:\n",
        "      if neighbour not in visited:\n",
        "        visited.append(neighbour)\n",
        "        queue.append(neighbour)\n",
        "\n",
        "print(\"Hasil penelurusan graf menggunakan BFS: \")\n",
        "bfs(visited, graph, 'A')"
      ],
      "metadata": {
        "colab": {
          "base_uri": "https://localhost:8080/"
        },
        "id": "HxogK3AbLXRQ",
        "outputId": "1b9114ca-129c-4f10-8456-f4a6907e12e6"
      },
      "execution_count": null,
      "outputs": [
        {
          "output_type": "stream",
          "name": "stdout",
          "text": [
            "Hasil penelurusan graf menggunakan BFS: \n",
            "A B E F G C H D "
          ]
        }
      ]
    },
    {
      "cell_type": "code",
      "source": [
        "# 1.5 Latihan Praktikum Nomor 1B\n",
        "\n",
        "graph = {\n",
        "    'A' : ['B', 'F', 'E'], \n",
        "    'B' : ['A', 'F', 'G'],\n",
        "    'C' : ['D', 'G'],\n",
        "    'D' : ['H', 'C'],\n",
        "    'E' : ['A', 'F'],\n",
        "    'F' : ['B', 'A', 'E'],\n",
        "    'G' : ['B', 'C', 'H'],\n",
        "    'H' : ['D', 'G'],\n",
        "}\n",
        "\n",
        "visited = set()\n",
        "\n",
        "def dfs(visited, graph, node):\n",
        "  if node not in visited:\n",
        "    print(node)\n",
        "    visited.add(node)\n",
        "    for neighbour in graph[node]:\n",
        "      dfs(visited, graph, neighbour)\n",
        "\n",
        "\n",
        "print(\"Hasil penelusuran graf menggunakan DFS: \")\n",
        "dfs(visited, graph, 'A')"
      ],
      "metadata": {
        "colab": {
          "base_uri": "https://localhost:8080/"
        },
        "id": "RosGRsFsO74V",
        "outputId": "bc38c3cb-b3dd-4ac1-8606-0f31f309ec4c"
      },
      "execution_count": null,
      "outputs": [
        {
          "output_type": "stream",
          "name": "stdout",
          "text": [
            "Hasil penelusuran graf menggunakan DFS: \n",
            "A\n",
            "B\n",
            "F\n",
            "E\n",
            "G\n",
            "C\n",
            "D\n",
            "H\n"
          ]
        }
      ]
    },
    {
      "cell_type": "code",
      "source": [
        "# 1.5 Latihan Praktikum Nomor 2A\n",
        "\n",
        "graph = {\n",
        "    'A' : ['B'],\n",
        "    'B' : ['A', 'G', 'F'],\n",
        "    'C' : ['D', 'G'],\n",
        "    'D' : ['H', 'C'],\n",
        "    'E' : ['F'],\n",
        "    'F' : ['E', 'B'],\n",
        "    'G' : ['B', 'C'],\n",
        "    'H' : ['D'],\n",
        "}\n",
        "\n",
        "visited = []\n",
        "queue = []\n",
        "\n",
        "def bfs(visited, graph, node):\n",
        "  visited.append(node)\n",
        "  queue.append(node)\n",
        "  x = 0\n",
        "\n",
        "  while queue:\n",
        "    s = queue.pop(0)\n",
        "    print(s, end = \" \")\n",
        "\n",
        "    for neighbour in graph[s]:\n",
        "      if neighbour not in visited:\n",
        "        visited.append(neighbour)\n",
        "        queue.append(neighbour)\n",
        "        x = neighbour\n",
        "  \n",
        "  if x == 'D':\n",
        "    print(\"\\n\\nD ditemukan!\")\n",
        "\n",
        "print(\"Hasil penelurusan graf menggunakan BFS: \")\n",
        "bfs(visited, graph, 'A')\n",
        "\n"
      ],
      "metadata": {
        "colab": {
          "base_uri": "https://localhost:8080/"
        },
        "id": "NRwZ3fjDO7-d",
        "outputId": "24e041d3-9cd8-4b42-bd93-4514c9985d9d"
      },
      "execution_count": null,
      "outputs": [
        {
          "output_type": "stream",
          "name": "stdout",
          "text": [
            "Hasil penelurusan graf menggunakan BFS: \n",
            "A B G F C E D H "
          ]
        }
      ]
    },
    {
      "cell_type": "code",
      "source": [
        "# 1.5 Latihan Praktikum Nomor 1B\n",
        "\n",
        "graph = {\n",
        "    'A' : ['B'],\n",
        "    'B' : ['F','G', 'A'],\n",
        "    'C' : ['D', 'G'],\n",
        "    'D' : ['C', 'H'],\n",
        "    'E' : ['F'],\n",
        "    'F' : ['B', 'E'],\n",
        "    'G' : ['C', 'B'],\n",
        "    'H' : ['D'],\n",
        "}\n",
        "\n",
        "visited = set()\n",
        "\n",
        "def dfs(visited, graph, node):\n",
        "  x = 0\n",
        "\n",
        "  if node not in visited:\n",
        "    print(node)\n",
        "    visited.add(node)\n",
        "    x = node\n",
        "    for neighbour in graph[node]:\n",
        "      dfs(visited, graph, neighbour)\n",
        "\n",
        "  if x == 'D':\n",
        "    print(\"\\n\\nD ditemukan!\")\n",
        "\n",
        "\n",
        "print(\"Hasil penelusuran graf menggunakan DFS: \")\n",
        "dfs(visited, graph, 'A')"
      ],
      "metadata": {
        "colab": {
          "base_uri": "https://localhost:8080/"
        },
        "id": "nJeOmBxBSORa",
        "outputId": "1278ff47-5db2-4835-eef6-a82b3cca171c"
      },
      "execution_count": null,
      "outputs": [
        {
          "output_type": "stream",
          "name": "stdout",
          "text": [
            "Hasil penelusuran graf menggunakan DFS: \n",
            "A\n",
            "B\n",
            "F\n",
            "E\n",
            "G\n",
            "C\n",
            "D\n",
            "H\n",
            "\n",
            "\n",
            "D ditemukan!\n"
          ]
        }
      ]
    }
  ]
}